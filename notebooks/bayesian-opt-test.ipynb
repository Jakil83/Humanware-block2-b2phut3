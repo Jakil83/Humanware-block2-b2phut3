{
 "cells": [
  {
   "cell_type": "code",
   "execution_count": 1,
   "metadata": {},
   "outputs": [],
   "source": [
    "import os, sys\n",
    "# Root directory of the project\n",
    "ROOT_DIR = os.path.abspath(\"../\")\n",
    "\n",
    "# To find local version of the library\n",
    "sys.path.append(ROOT_DIR)\n",
    "\n",
    "import dateutil.tz\n",
    "import datetime\n",
    "import pprint\n",
    "\n",
    "import skopt\n",
    "from skopt import gp_minimize\n",
    "\n",
    "\n",
    "import numpy as np\n",
    "import torch\n",
    "from torchvision import transforms\n",
    "\n",
    "\n",
    "from utils.dataloader import SVHNDataset\n",
    "from utils.config import cfg, cfg_from_file\n",
    "from utils.dataloader import prepare_dataloaders\n",
    "from utils.misc import mkdir_p\n",
    "from utils.transforms import FirstCrop, Rescale, RandomCrop, ToTensor\n",
    "from utils.misc import load_obj\n",
    "from utils.visualization import visualize_sample\n",
    "\n",
    "from models.vgg import VGG\n",
    "from trainer.trainer import train_model\n",
    "\n",
    "from utils.checkpointer import CheckpointSaver\n",
    "\n",
    "import matplotlib.pyplot as plt\n",
    "%matplotlib inline\n",
    "\n",
    "%load_ext autoreload\n",
    "%autoreload 2\n"
   ]
  },
  {
   "cell_type": "code",
   "execution_count": 6,
   "metadata": {
    "scrolled": true
   },
   "outputs": [
    {
     "name": "stdout",
     "output_type": "stream",
     "text": [
      "Init VGG\n",
      "Checkpointing new model ...\n",
      "VGG(\n",
      "  (features): Sequential(\n",
      "    (0): Conv2d(3, 64, kernel_size=(3, 3), stride=(1, 1), padding=(1, 1))\n",
      "    (1): BatchNorm2d(64, eps=1e-05, momentum=0.1, affine=True, track_running_stats=True)\n",
      "    (2): ReLU(inplace)\n",
      "    (3): Conv2d(64, 64, kernel_size=(3, 3), stride=(1, 1), padding=(1, 1))\n",
      "    (4): BatchNorm2d(64, eps=1e-05, momentum=0.1, affine=True, track_running_stats=True)\n",
      "    (5): ReLU(inplace)\n",
      "    (6): MaxPool2d(kernel_size=2, stride=2, padding=0, dilation=1, ceil_mode=False)\n",
      "    (7): Conv2d(64, 128, kernel_size=(3, 3), stride=(1, 1), padding=(1, 1))\n",
      "    (8): BatchNorm2d(128, eps=1e-05, momentum=0.1, affine=True, track_running_stats=True)\n",
      "    (9): ReLU(inplace)\n",
      "    (10): Conv2d(128, 128, kernel_size=(3, 3), stride=(1, 1), padding=(1, 1))\n",
      "    (11): BatchNorm2d(128, eps=1e-05, momentum=0.1, affine=True, track_running_stats=True)\n",
      "    (12): ReLU(inplace)\n",
      "    (13): MaxPool2d(kernel_size=2, stride=2, padding=0, dilation=1, ceil_mode=False)\n",
      "    (14): Conv2d(128, 256, kernel_size=(3, 3), stride=(1, 1), padding=(1, 1))\n",
      "    (15): BatchNorm2d(256, eps=1e-05, momentum=0.1, affine=True, track_running_stats=True)\n",
      "    (16): ReLU(inplace)\n",
      "    (17): Conv2d(256, 256, kernel_size=(3, 3), stride=(1, 1), padding=(1, 1))\n",
      "    (18): BatchNorm2d(256, eps=1e-05, momentum=0.1, affine=True, track_running_stats=True)\n",
      "    (19): ReLU(inplace)\n",
      "    (20): Conv2d(256, 256, kernel_size=(3, 3), stride=(1, 1), padding=(1, 1))\n",
      "    (21): BatchNorm2d(256, eps=1e-05, momentum=0.1, affine=True, track_running_stats=True)\n",
      "    (22): ReLU(inplace)\n",
      "    (23): Conv2d(256, 256, kernel_size=(3, 3), stride=(1, 1), padding=(1, 1))\n",
      "    (24): BatchNorm2d(256, eps=1e-05, momentum=0.1, affine=True, track_running_stats=True)\n",
      "    (25): ReLU(inplace)\n",
      "    (26): MaxPool2d(kernel_size=2, stride=2, padding=0, dilation=1, ceil_mode=False)\n",
      "    (27): Conv2d(256, 512, kernel_size=(3, 3), stride=(1, 1), padding=(1, 1))\n",
      "    (28): BatchNorm2d(512, eps=1e-05, momentum=0.1, affine=True, track_running_stats=True)\n",
      "    (29): ReLU(inplace)\n",
      "    (30): Conv2d(512, 512, kernel_size=(3, 3), stride=(1, 1), padding=(1, 1))\n",
      "    (31): BatchNorm2d(512, eps=1e-05, momentum=0.1, affine=True, track_running_stats=True)\n",
      "    (32): ReLU(inplace)\n",
      "    (33): Conv2d(512, 512, kernel_size=(3, 3), stride=(1, 1), padding=(1, 1))\n",
      "    (34): BatchNorm2d(512, eps=1e-05, momentum=0.1, affine=True, track_running_stats=True)\n",
      "    (35): ReLU(inplace)\n",
      "    (36): Conv2d(512, 512, kernel_size=(3, 3), stride=(1, 1), padding=(1, 1))\n",
      "    (37): BatchNorm2d(512, eps=1e-05, momentum=0.1, affine=True, track_running_stats=True)\n",
      "    (38): ReLU(inplace)\n",
      "    (39): MaxPool2d(kernel_size=2, stride=2, padding=0, dilation=1, ceil_mode=False)\n",
      "    (40): Conv2d(512, 512, kernel_size=(3, 3), stride=(1, 1), padding=(1, 1))\n",
      "    (41): BatchNorm2d(512, eps=1e-05, momentum=0.1, affine=True, track_running_stats=True)\n",
      "    (42): ReLU(inplace)\n",
      "    (43): Conv2d(512, 512, kernel_size=(3, 3), stride=(1, 1), padding=(1, 1))\n",
      "    (44): BatchNorm2d(512, eps=1e-05, momentum=0.1, affine=True, track_running_stats=True)\n",
      "    (45): ReLU(inplace)\n",
      "    (46): Conv2d(512, 512, kernel_size=(3, 3), stride=(1, 1), padding=(1, 1))\n",
      "    (47): BatchNorm2d(512, eps=1e-05, momentum=0.1, affine=True, track_running_stats=True)\n",
      "    (48): ReLU(inplace)\n",
      "    (49): Conv2d(512, 512, kernel_size=(3, 3), stride=(1, 1), padding=(1, 1))\n",
      "    (50): BatchNorm2d(512, eps=1e-05, momentum=0.1, affine=True, track_running_stats=True)\n",
      "    (51): ReLU(inplace)\n",
      "    (52): MaxPool2d(kernel_size=2, stride=2, padding=0, dilation=1, ceil_mode=False)\n",
      "    (53): AvgPool2d(kernel_size=1, stride=1, padding=0)\n",
      "  )\n",
      "  (classifier_length): Linear(in_features=512, out_features=7, bias=True)\n",
      "  (classifier_digit1): Linear(in_features=512, out_features=10, bias=True)\n",
      "  (classifier_digit2): Linear(in_features=512, out_features=10, bias=True)\n",
      "  (classifier_digit3): Linear(in_features=512, out_features=10, bias=True)\n",
      "  (classifier_digit4): Linear(in_features=512, out_features=10, bias=True)\n",
      "  (classifier_digit5): Linear(in_features=512, out_features=10, bias=True)\n",
      ")\n",
      "{'CONFIG_NAME': 'VGG19', 'DATASET_NAME': 'SVHN', 'SEED': 1234, 'TRAIN': {'DATASET_SPLIT': 'train', 'VALID_SPLIT': 0.8, 'SAMPLE_SIZE': -1, 'BATCH_SIZE': 32, 'NUM_EPOCHS': 25, 'LR': 0.001, 'MOM': 0.9, 'CURRENT_EPOCH': 11}}\n"
     ]
    }
   ],
   "source": [
    "cfg_from_file(\"../config/base_config.yml\")\n",
    "\n",
    "vgg19 = VGG('VGG19', num_classes_length=7, num_classes_digits=10)\n",
    "\n",
    "checkpoint = CheckpointSaver(\"../tmp_results\")\n",
    "checkpoint.save(vgg19, 11)\n",
    "\n",
    "model = checkpoint.load(\"checkpoint_epoch11\")\n",
    "\n",
    "print(model)\n",
    "print(cfg)"
   ]
  },
  {
   "cell_type": "code",
   "execution_count": 4,
   "metadata": {
    "scrolled": false
   },
   "outputs": [
    {
     "name": "stdout",
     "output_type": "stream",
     "text": [
      "[0.009209225155490905, 'VGG19']\n",
      "Init VGG\n",
      "Device used:  cuda:0\n",
      "Learning rate is: 0.009209225155490905\n",
      "Directory run already exists\n",
      "# Start training #\n",
      "\n",
      "\n",
      "Iterating over training data...\n"
     ]
    },
    {
     "name": "stderr",
     "output_type": "stream",
     "text": [
      "[TRAIN] - EPOCH 1/ 2 - BATCH LOSS: 10.9502(avg) : 100%|██████████| 25/25 [00:11<00:00,  1.37it/s]\n",
      "  0%|          | 0/7 [00:00<?, ?it/s]"
     ]
    },
    {
     "name": "stdout",
     "output_type": "stream",
     "text": [
      "\n",
      "\n",
      "Iterating over validation data...\n"
     ]
    },
    {
     "name": "stderr",
     "output_type": "stream",
     "text": [
      "100%|██████████| 7/7 [00:04<00:00,  1.28s/it]\n"
     ]
    },
    {
     "name": "stdout",
     "output_type": "stream",
     "text": [
      "Checkpointing new model ...\n",
      "\n",
      "Epoch: 1/2\n",
      "\tTrain Loss: 10.9502\n",
      "\tValid Loss: 437.2933\n",
      "\tValid Accuracy: 0.0250\n",
      "\n",
      "\n",
      "Iterating over training data...\n"
     ]
    },
    {
     "name": "stderr",
     "output_type": "stream",
     "text": [
      "[TRAIN] - EPOCH 2/ 2 - BATCH LOSS: 10.2367(avg) : 100%|██████████| 25/25 [00:06<00:00,  4.23it/s]\n",
      "  0%|          | 0/7 [00:00<?, ?it/s]"
     ]
    },
    {
     "name": "stdout",
     "output_type": "stream",
     "text": [
      "\n",
      "\n",
      "Iterating over validation data...\n"
     ]
    },
    {
     "name": "stderr",
     "output_type": "stream",
     "text": [
      "100%|██████████| 7/7 [00:01<00:00,  3.81it/s]\n"
     ]
    },
    {
     "name": "stdout",
     "output_type": "stream",
     "text": [
      "\n",
      "Epoch: 2/2\n",
      "\tTrain Loss: 10.2367\n",
      "\tValid Loss: 10.3013\n",
      "\tValid Accuracy: 0.0200\n",
      "\n",
      "\n",
      "Training complete in 0m 38s\n",
      "Saving model ...\n",
      "Best model saved to : ../tmp_results/best_model.pth\n",
      "[0.19486241836466403, 'VGG19']\n",
      "Init VGG\n",
      "Device used:  cuda:0\n",
      "Learning rate is: 0.19486241836466403\n",
      "Directory run already exists\n",
      "# Start training #\n",
      "\n",
      "\n",
      "Iterating over training data...\n"
     ]
    },
    {
     "name": "stderr",
     "output_type": "stream",
     "text": [
      "[TRAIN] - EPOCH 1/ 2 - BATCH LOSS: 12.6815(avg) : 100%|██████████| 25/25 [00:06<00:00,  4.29it/s]\n",
      "  0%|          | 0/7 [00:00<?, ?it/s]"
     ]
    },
    {
     "name": "stdout",
     "output_type": "stream",
     "text": [
      "\n",
      "\n",
      "Iterating over validation data...\n"
     ]
    },
    {
     "name": "stderr",
     "output_type": "stream",
     "text": [
      "100%|██████████| 7/7 [00:01<00:00,  3.82it/s]\n"
     ]
    },
    {
     "name": "stdout",
     "output_type": "stream",
     "text": [
      "Checkpointing new model ...\n",
      "\n",
      "Epoch: 1/2\n",
      "\tTrain Loss: 12.6815\n",
      "\tValid Loss: 647.2395\n",
      "\tValid Accuracy: 0.0100\n",
      "\n",
      "\n",
      "Iterating over training data...\n"
     ]
    },
    {
     "name": "stderr",
     "output_type": "stream",
     "text": [
      "[TRAIN] - EPOCH 2/ 2 - BATCH LOSS: 9.6314(avg) : 100%|██████████| 25/25 [00:06<00:00,  4.28it/s]\n",
      "  0%|          | 0/7 [00:00<?, ?it/s]"
     ]
    },
    {
     "name": "stdout",
     "output_type": "stream",
     "text": [
      "\n",
      "\n",
      "Iterating over validation data...\n"
     ]
    },
    {
     "name": "stderr",
     "output_type": "stream",
     "text": [
      "100%|██████████| 7/7 [00:01<00:00,  3.74it/s]\n"
     ]
    },
    {
     "name": "stdout",
     "output_type": "stream",
     "text": [
      "\n",
      "Epoch: 2/2\n",
      "\tTrain Loss: 9.6314\n",
      "\tValid Loss: 9.1601\n",
      "\tValid Accuracy: 0.0150\n",
      "\n",
      "\n",
      "Training complete in 0m 21s\n",
      "Saving model ...\n",
      "Best model saved to : ../tmp_results/best_model.pth\n",
      "[0.013116515715358098, 'VGG13']\n",
      "Init VGG\n",
      "Device used:  cuda:0\n",
      "Learning rate is: 0.013116515715358098\n",
      "Directory run already exists\n",
      "# Start training #\n",
      "\n",
      "\n",
      "Iterating over training data...\n"
     ]
    },
    {
     "name": "stderr",
     "output_type": "stream",
     "text": [
      "[TRAIN] - EPOCH 1/ 2 - BATCH LOSS: 10.6186(avg) : 100%|██████████| 25/25 [00:06<00:00,  4.27it/s]\n",
      "  0%|          | 0/7 [00:00<?, ?it/s]"
     ]
    },
    {
     "name": "stdout",
     "output_type": "stream",
     "text": [
      "\n",
      "\n",
      "Iterating over validation data...\n"
     ]
    },
    {
     "name": "stderr",
     "output_type": "stream",
     "text": [
      "100%|██████████| 7/7 [00:01<00:00,  3.89it/s]\n"
     ]
    },
    {
     "name": "stdout",
     "output_type": "stream",
     "text": [
      "Checkpointing new model ...\n",
      "\n",
      "Epoch: 1/2\n",
      "\tTrain Loss: 10.6186\n",
      "\tValid Loss: 37.7453\n",
      "\tValid Accuracy: 0.0250\n",
      "\n",
      "\n",
      "Iterating over training data...\n"
     ]
    },
    {
     "name": "stderr",
     "output_type": "stream",
     "text": [
      "[TRAIN] - EPOCH 2/ 2 - BATCH LOSS: 9.9379(avg) : 100%|██████████| 25/25 [00:06<00:00,  4.23it/s] \n",
      "  0%|          | 0/7 [00:00<?, ?it/s]"
     ]
    },
    {
     "name": "stdout",
     "output_type": "stream",
     "text": [
      "\n",
      "\n",
      "Iterating over validation data...\n"
     ]
    },
    {
     "name": "stderr",
     "output_type": "stream",
     "text": [
      "100%|██████████| 7/7 [00:01<00:00,  3.81it/s]\n"
     ]
    },
    {
     "name": "stdout",
     "output_type": "stream",
     "text": [
      "\n",
      "Epoch: 2/2\n",
      "\tTrain Loss: 9.9379\n",
      "\tValid Loss: 9.2596\n",
      "\tValid Accuracy: 0.0200\n",
      "\n",
      "\n",
      "Training complete in 0m 26s\n",
      "Saving model ...\n",
      "Best model saved to : ../tmp_results/best_model.pth\n",
      "[0.0003073781785362612, 'VGG11']\n",
      "Init VGG\n",
      "Device used:  cuda:0\n",
      "Learning rate is: 0.0003073781785362612\n",
      "Directory run already exists\n",
      "# Start training #\n",
      "\n",
      "\n",
      "Iterating over training data...\n"
     ]
    },
    {
     "name": "stderr",
     "output_type": "stream",
     "text": [
      "[TRAIN] - EPOCH 1/ 2 - BATCH LOSS: 10.3703(avg) : 100%|██████████| 25/25 [00:06<00:00,  4.26it/s]\n",
      "  0%|          | 0/7 [00:00<?, ?it/s]"
     ]
    },
    {
     "name": "stdout",
     "output_type": "stream",
     "text": [
      "\n",
      "\n",
      "Iterating over validation data...\n"
     ]
    },
    {
     "name": "stderr",
     "output_type": "stream",
     "text": [
      "100%|██████████| 7/7 [00:01<00:00,  3.71it/s]\n"
     ]
    },
    {
     "name": "stdout",
     "output_type": "stream",
     "text": [
      "Checkpointing new model ...\n",
      "\n",
      "Epoch: 1/2\n",
      "\tTrain Loss: 10.3703\n",
      "\tValid Loss: 9.9126\n",
      "\tValid Accuracy: 0.0100\n",
      "\n",
      "\n",
      "Iterating over training data...\n"
     ]
    },
    {
     "name": "stderr",
     "output_type": "stream",
     "text": [
      "[TRAIN] - EPOCH 2/ 2 - BATCH LOSS: 9.6000(avg) : 100%|██████████| 25/25 [00:06<00:00,  4.29it/s]\n",
      "  0%|          | 0/7 [00:00<?, ?it/s]"
     ]
    },
    {
     "name": "stdout",
     "output_type": "stream",
     "text": [
      "\n",
      "\n",
      "Iterating over validation data...\n"
     ]
    },
    {
     "name": "stderr",
     "output_type": "stream",
     "text": [
      "100%|██████████| 7/7 [00:01<00:00,  3.74it/s]\n"
     ]
    },
    {
     "name": "stdout",
     "output_type": "stream",
     "text": [
      "\n",
      "Epoch: 2/2\n",
      "\tTrain Loss: 9.6000\n",
      "\tValid Loss: 9.8740\n",
      "\tValid Accuracy: 0.0150\n",
      "\n",
      "\n",
      "Training complete in 0m 26s\n",
      "Saving model ...\n",
      "Best model saved to : ../tmp_results/best_model.pth\n",
      "[0.00023082427114609125, 'VGG13']\n",
      "Init VGG\n",
      "Device used:  cuda:0\n",
      "Learning rate is: 0.00023082427114609125\n",
      "Directory run already exists\n",
      "# Start training #\n",
      "\n",
      "\n",
      "Iterating over training data...\n"
     ]
    },
    {
     "name": "stderr",
     "output_type": "stream",
     "text": [
      "[TRAIN] - EPOCH 1/ 2 - BATCH LOSS: 10.1036(avg) : 100%|██████████| 25/25 [00:06<00:00,  4.25it/s]\n",
      "  0%|          | 0/7 [00:00<?, ?it/s]"
     ]
    },
    {
     "name": "stdout",
     "output_type": "stream",
     "text": [
      "\n",
      "\n",
      "Iterating over validation data...\n"
     ]
    },
    {
     "name": "stderr",
     "output_type": "stream",
     "text": [
      "100%|██████████| 7/7 [00:01<00:00,  3.76it/s]\n"
     ]
    },
    {
     "name": "stdout",
     "output_type": "stream",
     "text": [
      "Checkpointing new model ...\n",
      "\n",
      "Epoch: 1/2\n",
      "\tTrain Loss: 10.1036\n",
      "\tValid Loss: 9.5982\n",
      "\tValid Accuracy: 0.0050\n",
      "\n",
      "\n",
      "Iterating over training data...\n"
     ]
    },
    {
     "name": "stderr",
     "output_type": "stream",
     "text": [
      "[TRAIN] - EPOCH 2/ 2 - BATCH LOSS: 9.5762(avg) : 100%|██████████| 25/25 [00:06<00:00,  4.25it/s] \n",
      "  0%|          | 0/7 [00:00<?, ?it/s]"
     ]
    },
    {
     "name": "stdout",
     "output_type": "stream",
     "text": [
      "\n",
      "\n",
      "Iterating over validation data...\n"
     ]
    },
    {
     "name": "stderr",
     "output_type": "stream",
     "text": [
      "100%|██████████| 7/7 [00:01<00:00,  3.62it/s]\n"
     ]
    },
    {
     "name": "stdout",
     "output_type": "stream",
     "text": [
      "\n",
      "Epoch: 2/2\n",
      "\tTrain Loss: 9.5762\n",
      "\tValid Loss: 9.7597\n",
      "\tValid Accuracy: 0.0200\n",
      "\n",
      "\n",
      "Training complete in 0m 20s\n",
      "Saving model ...\n",
      "Best model saved to : ../tmp_results/best_model.pth\n",
      "[0.11503861485898605, 'VGG13']\n",
      "Init VGG\n",
      "Device used:  cuda:0\n",
      "Learning rate is: 0.11503861485898605\n",
      "Directory run already exists\n",
      "# Start training #\n",
      "\n",
      "\n",
      "Iterating over training data...\n"
     ]
    },
    {
     "name": "stderr",
     "output_type": "stream",
     "text": [
      "[TRAIN] - EPOCH 1/ 2 - BATCH LOSS: 13.4745(avg) : 100%|██████████| 25/25 [00:06<00:00,  4.29it/s]\n",
      "  0%|          | 0/7 [00:00<?, ?it/s]"
     ]
    },
    {
     "name": "stdout",
     "output_type": "stream",
     "text": [
      "\n",
      "\n",
      "Iterating over validation data...\n"
     ]
    },
    {
     "name": "stderr",
     "output_type": "stream",
     "text": [
      "100%|██████████| 7/7 [00:01<00:00,  3.76it/s]\n"
     ]
    },
    {
     "name": "stdout",
     "output_type": "stream",
     "text": [
      "Checkpointing new model ...\n",
      "\n",
      "Epoch: 1/2\n",
      "\tTrain Loss: 13.4745\n",
      "\tValid Loss: 2420.9654\n",
      "\tValid Accuracy: 0.0000\n",
      "\n",
      "\n",
      "Iterating over training data...\n"
     ]
    },
    {
     "name": "stderr",
     "output_type": "stream",
     "text": [
      "[TRAIN] - EPOCH 2/ 2 - BATCH LOSS: 9.6304(avg) : 100%|██████████| 25/25 [00:06<00:00,  4.28it/s]\n",
      "  0%|          | 0/7 [00:00<?, ?it/s]"
     ]
    },
    {
     "name": "stdout",
     "output_type": "stream",
     "text": [
      "\n",
      "\n",
      "Iterating over validation data...\n"
     ]
    },
    {
     "name": "stderr",
     "output_type": "stream",
     "text": [
      "100%|██████████| 7/7 [00:01<00:00,  3.73it/s]\n"
     ]
    },
    {
     "name": "stdout",
     "output_type": "stream",
     "text": [
      "\n",
      "Epoch: 2/2\n",
      "\tTrain Loss: 9.6304\n",
      "\tValid Loss: 10.0869\n",
      "\tValid Accuracy: 0.0150\n",
      "\n",
      "\n",
      "Training complete in 0m 20s\n",
      "Saving model ...\n",
      "Best model saved to : ../tmp_results/best_model.pth\n",
      "[0.0009202884691104562, 'VGG19']\n",
      "Init VGG\n",
      "Device used:  cuda:0\n",
      "Learning rate is: 0.0009202884691104562\n",
      "Directory run already exists\n",
      "# Start training #\n",
      "\n",
      "\n",
      "Iterating over training data...\n"
     ]
    },
    {
     "name": "stderr",
     "output_type": "stream",
     "text": [
      "[TRAIN] - EPOCH 1/ 2 - BATCH LOSS: 10.1567(avg) : 100%|██████████| 25/25 [00:06<00:00,  4.26it/s]\n",
      "  0%|          | 0/7 [00:00<?, ?it/s]"
     ]
    },
    {
     "name": "stdout",
     "output_type": "stream",
     "text": [
      "\n",
      "\n",
      "Iterating over validation data...\n"
     ]
    },
    {
     "name": "stderr",
     "output_type": "stream",
     "text": [
      "100%|██████████| 7/7 [00:01<00:00,  3.60it/s]\n"
     ]
    },
    {
     "name": "stdout",
     "output_type": "stream",
     "text": [
      "Checkpointing new model ...\n",
      "\n",
      "Epoch: 1/2\n",
      "\tTrain Loss: 10.1567\n",
      "\tValid Loss: 9.3616\n",
      "\tValid Accuracy: 0.0350\n",
      "\n",
      "\n",
      "Iterating over training data...\n"
     ]
    },
    {
     "name": "stderr",
     "output_type": "stream",
     "text": [
      "[TRAIN] - EPOCH 2/ 2 - BATCH LOSS: 9.5285(avg) : 100%|██████████| 25/25 [00:06<00:00,  4.25it/s]\n",
      "  0%|          | 0/7 [00:00<?, ?it/s]"
     ]
    },
    {
     "name": "stdout",
     "output_type": "stream",
     "text": [
      "\n",
      "\n",
      "Iterating over validation data...\n"
     ]
    },
    {
     "name": "stderr",
     "output_type": "stream",
     "text": [
      "100%|██████████| 7/7 [00:01<00:00,  3.82it/s]\n"
     ]
    },
    {
     "name": "stdout",
     "output_type": "stream",
     "text": [
      "\n",
      "Epoch: 2/2\n",
      "\tTrain Loss: 9.5285\n",
      "\tValid Loss: 9.3645\n",
      "\tValid Accuracy: 0.0300\n",
      "\n",
      "\n",
      "Training complete in 0m 23s\n",
      "Saving model ...\n",
      "Best model saved to : ../tmp_results/best_model.pth\n",
      "[0.0004863857046189474, 'VGG16']\n",
      "Init VGG\n",
      "Device used:  cuda:0\n",
      "Learning rate is: 0.0004863857046189474\n",
      "Directory run already exists\n",
      "# Start training #\n",
      "\n",
      "\n",
      "Iterating over training data...\n"
     ]
    },
    {
     "name": "stderr",
     "output_type": "stream",
     "text": [
      "[TRAIN] - EPOCH 1/ 2 - BATCH LOSS: 10.7158(avg) : 100%|██████████| 25/25 [00:06<00:00,  4.28it/s]\n",
      "  0%|          | 0/7 [00:00<?, ?it/s]"
     ]
    },
    {
     "name": "stdout",
     "output_type": "stream",
     "text": [
      "\n",
      "\n",
      "Iterating over validation data...\n"
     ]
    },
    {
     "name": "stderr",
     "output_type": "stream",
     "text": [
      "100%|██████████| 7/7 [00:01<00:00,  3.56it/s]\n"
     ]
    },
    {
     "name": "stdout",
     "output_type": "stream",
     "text": [
      "Checkpointing new model ...\n",
      "\n",
      "Epoch: 1/2\n",
      "\tTrain Loss: 10.7158\n",
      "\tValid Loss: 9.1116\n",
      "\tValid Accuracy: 0.0200\n",
      "\n",
      "\n",
      "Iterating over training data...\n"
     ]
    },
    {
     "name": "stderr",
     "output_type": "stream",
     "text": [
      "[TRAIN] - EPOCH 2/ 2 - BATCH LOSS: 10.0473(avg) : 100%|██████████| 25/25 [00:06<00:00,  4.28it/s]\n",
      "  0%|          | 0/7 [00:00<?, ?it/s]"
     ]
    },
    {
     "name": "stdout",
     "output_type": "stream",
     "text": [
      "\n",
      "\n",
      "Iterating over validation data...\n"
     ]
    },
    {
     "name": "stderr",
     "output_type": "stream",
     "text": [
      "100%|██████████| 7/7 [00:01<00:00,  3.56it/s]\n"
     ]
    },
    {
     "name": "stdout",
     "output_type": "stream",
     "text": [
      "\n",
      "Epoch: 2/2\n",
      "\tTrain Loss: 10.0473\n",
      "\tValid Loss: 9.2955\n",
      "\tValid Accuracy: 0.0200\n",
      "\n",
      "\n",
      "Training complete in 0m 21s\n",
      "Saving model ...\n",
      "Best model saved to : ../tmp_results/best_model.pth\n",
      "[0.0006937575128144787, 'VGG19']\n",
      "Init VGG\n",
      "Device used:  cuda:0\n",
      "Learning rate is: 0.0006937575128144787\n",
      "Directory run already exists\n",
      "# Start training #\n",
      "\n",
      "\n",
      "Iterating over training data...\n"
     ]
    },
    {
     "name": "stderr",
     "output_type": "stream",
     "text": [
      "[TRAIN] - EPOCH 1/ 2 - BATCH LOSS: 10.1941(avg) : 100%|██████████| 25/25 [00:06<00:00,  4.27it/s]\n",
      "  0%|          | 0/7 [00:00<?, ?it/s]"
     ]
    },
    {
     "name": "stdout",
     "output_type": "stream",
     "text": [
      "\n",
      "\n",
      "Iterating over validation data...\n"
     ]
    },
    {
     "name": "stderr",
     "output_type": "stream",
     "text": [
      "100%|██████████| 7/7 [00:01<00:00,  4.16it/s]\n"
     ]
    },
    {
     "name": "stdout",
     "output_type": "stream",
     "text": [
      "Checkpointing new model ...\n",
      "\n",
      "Epoch: 1/2\n",
      "\tTrain Loss: 10.1941\n",
      "\tValid Loss: 9.9013\n",
      "\tValid Accuracy: 0.0300\n",
      "\n",
      "\n",
      "Iterating over training data...\n"
     ]
    },
    {
     "name": "stderr",
     "output_type": "stream",
     "text": [
      "[TRAIN] - EPOCH 2/ 2 - BATCH LOSS: 9.8545(avg) : 100%|██████████| 25/25 [00:06<00:00,  4.22it/s]\n",
      "  0%|          | 0/7 [00:00<?, ?it/s]"
     ]
    },
    {
     "name": "stdout",
     "output_type": "stream",
     "text": [
      "\n",
      "\n",
      "Iterating over validation data...\n"
     ]
    },
    {
     "name": "stderr",
     "output_type": "stream",
     "text": [
      "100%|██████████| 7/7 [00:01<00:00,  3.61it/s]\n"
     ]
    },
    {
     "name": "stdout",
     "output_type": "stream",
     "text": [
      "\n",
      "Epoch: 2/2\n",
      "\tTrain Loss: 9.8545\n",
      "\tValid Loss: 9.2507\n",
      "\tValid Accuracy: 0.0350\n",
      "\n",
      "\n",
      "Training complete in 0m 21s\n",
      "Saving model ...\n",
      "Best model saved to : ../tmp_results/best_model.pth\n",
      "[5.0321537523063144e-05, 'VGG19']\n",
      "Init VGG\n",
      "Device used:  cuda:0\n",
      "Learning rate is: 5.0321537523063144e-05\n",
      "Directory run already exists\n",
      "# Start training #\n",
      "\n",
      "\n",
      "Iterating over training data...\n"
     ]
    },
    {
     "name": "stderr",
     "output_type": "stream",
     "text": [
      "[TRAIN] - EPOCH 1/ 2 - BATCH LOSS: 10.5590(avg) : 100%|██████████| 25/25 [00:06<00:00,  4.26it/s]\n",
      "  0%|          | 0/7 [00:00<?, ?it/s]"
     ]
    },
    {
     "name": "stdout",
     "output_type": "stream",
     "text": [
      "\n",
      "\n",
      "Iterating over validation data...\n"
     ]
    },
    {
     "name": "stderr",
     "output_type": "stream",
     "text": [
      "100%|██████████| 7/7 [00:01<00:00,  3.51it/s]\n"
     ]
    },
    {
     "name": "stdout",
     "output_type": "stream",
     "text": [
      "Checkpointing new model ...\n",
      "\n",
      "Epoch: 1/2\n",
      "\tTrain Loss: 10.5590\n",
      "\tValid Loss: 10.1405\n",
      "\tValid Accuracy: 0.0000\n",
      "\n",
      "\n",
      "Iterating over training data...\n"
     ]
    },
    {
     "name": "stderr",
     "output_type": "stream",
     "text": [
      "[TRAIN] - EPOCH 2/ 2 - BATCH LOSS: 9.4754(avg) : 100%|██████████| 25/25 [00:06<00:00,  4.25it/s]\n",
      "  0%|          | 0/7 [00:00<?, ?it/s]"
     ]
    },
    {
     "name": "stdout",
     "output_type": "stream",
     "text": [
      "\n",
      "\n",
      "Iterating over validation data...\n"
     ]
    },
    {
     "name": "stderr",
     "output_type": "stream",
     "text": [
      "100%|██████████| 7/7 [00:01<00:00,  3.67it/s]\n"
     ]
    },
    {
     "name": "stdout",
     "output_type": "stream",
     "text": [
      "\n",
      "Epoch: 2/2\n",
      "\tTrain Loss: 9.4754\n",
      "\tValid Loss: 9.0634\n",
      "\tValid Accuracy: 0.0300\n",
      "\n",
      "\n",
      "Training complete in 0m 20s\n",
      "Saving model ...\n",
      "Best model saved to : ../tmp_results/best_model.pth\n",
      "Best score: 0.035\n",
      "Best lr: 0.0006937575128144787\n"
     ]
    }
   ],
   "source": [
    "# Wrapper function for bayesian optimization\n",
    "# The space contains the parameters to explore\n",
    "def train_model_opt(space):\n",
    "    print(space)\n",
    "    (train_loader,\n",
    "     valid_loader) = prepare_dataloaders(\n",
    "        dataset_split='train',\n",
    "        dataset_path='../data/SVHN/train',\n",
    "        metadata_filename='../data/SVHN/train_metadata.pkl',\n",
    "        batch_size=32,\n",
    "        sample_size=1000,\n",
    "        valid_split=0.8)\n",
    "    \n",
    "    vgg19 = VGG('VGG19', num_classes_length=7, num_classes_digits=10)\n",
    "\n",
    "\n",
    "    device = torch.device(\"cuda:0\" if torch.cuda.is_available() else \"cpu\")\n",
    "    print(\"Device used: \", device)\n",
    "    return -train_model(vgg19,\n",
    "                train_loader=train_loader,\n",
    "                valid_loader=valid_loader,\n",
    "                num_epochs=2,\n",
    "                device=device,\n",
    "                lr=space[0],\n",
    "                checkpoint_dir=\"../checkpoints\",\n",
    "                output_dir=\"../tmp_results\")\n",
    "\n",
    "\n",
    "# Define the range \n",
    "space = [skopt.space.Real(10**-5, 10**0, \"log-uniform\", name='lr'), \n",
    "         skopt.space.Categorical([\"VGG11\", \"VGG13\", \"VGG16\", \"VGG19\"])]\n",
    "\n",
    "mkdir_p(\"../tmp_results\")\n",
    "\n",
    "\n",
    "res_gp = gp_minimize(train_model_opt, space, n_calls=10,\n",
    "                     random_state=0)\n",
    "\n",
    "print(\"Best score: {0}\".format(-res_gp.fun))\n",
    "print(\"Best lr: {0}\".format(res_gp.x[0]))"
   ]
  },
  {
   "cell_type": "code",
   "execution_count": null,
   "metadata": {},
   "outputs": [],
   "source": []
  }
 ],
 "metadata": {
  "kernelspec": {
   "display_name": "Python 3",
   "language": "python",
   "name": "python3"
  },
  "language_info": {
   "codemirror_mode": {
    "name": "ipython",
    "version": 3
   },
   "file_extension": ".py",
   "mimetype": "text/x-python",
   "name": "python",
   "nbconvert_exporter": "python",
   "pygments_lexer": "ipython3",
   "version": "3.6.8"
  }
 },
 "nbformat": 4,
 "nbformat_minor": 2
}
